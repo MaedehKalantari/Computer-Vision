{
  "cells": [
    {
      "cell_type": "code",
      "execution_count": null,
      "metadata": {
        "id": "wk4ZlyhQnA4F"
      },
      "outputs": [],
      "source": [
        "pip install opencv-python mediapipe"
      ]
    },
    {
      "cell_type": "code",
      "execution_count": null,
      "metadata": {
        "id": "CMja0neRnA4L"
      },
      "outputs": [],
      "source": [
        "import cv2\n",
        "import mediapipe as mp\n",
        "import numpy as np\n",
        "mp_drawing = mp.solutions.drawing_utils\n",
        "mp_pose = mp.solutions.pose\n"
      ]
    },
    {
      "cell_type": "code",
      "execution_count": null,
      "metadata": {
        "id": "4rfPmKqOnA4M",
        "outputId": "608468f5-81c0-4a57-d0da-7d4f2abab49d"
      },
      "outputs": [
        {
          "data": {
            "text/plain": [
              "65"
            ]
          },
          "execution_count": 6,
          "metadata": {},
          "output_type": "execute_result"
        }
      ],
      "source": [
        "ord('A')"
      ]
    },
    {
      "cell_type": "code",
      "execution_count": null,
      "metadata": {
        "id": "0H433TaxnA4O"
      },
      "outputs": [],
      "source": [
        "cap = cv2.VideoCapture(0)\n",
        "\n",
        "while cap.isOpened():\n",
        "    res, frame = cap.read()\n",
        "    cv2.imshow(\"MediaPipe Feed\", frame)\n",
        "\n",
        "    if cv2.waitKey(10) & 0xFF == ord('q'):\n",
        "        break\n",
        "\n",
        "cap.release()\n",
        "cv2.destroyAllWindows()"
      ]
    },
    {
      "cell_type": "markdown",
      "metadata": {
        "id": "chj30qJfnA4P"
      },
      "source": [
        "1. Perform Detection\n",
        "2. Identify Joints\n",
        "3. Compute Angles\n",
        "4. Count Curl"
      ]
    },
    {
      "cell_type": "code",
      "execution_count": null,
      "metadata": {
        "id": "VqKr8TOwnA4R"
      },
      "outputs": [],
      "source": [
        "cap = cv2.VideoCapture(0)\n",
        "\n",
        "with mp_pose.Pose(min_detection_confidence=0.5, min_tracking_confidence=0.5) as pose:\n",
        "    while cap.isOpened():\n",
        "        res, frame = cap.read()\n",
        "\n",
        "        #convert BGR2RGB\n",
        "        image = cv2.cvtColor(frame, cv2.COLOR_BGR2RGB)\n",
        "        image.flags.writeable = False\n",
        "\n",
        "        #make detection\n",
        "        results = pose.process(image)\n",
        "\n",
        "        #convert BGR2RGB\n",
        "        image.flags.writeable = True\n",
        "        image = cv2.cvtColor(image, cv2.COLOR_RGB2BGR)\n",
        "\n",
        "        try:\n",
        "            landmarks = results.pose_landmarks.landmark\n",
        "        except:\n",
        "            pass\n",
        "\n",
        "        # Render detections\n",
        "        mp_drawing.draw_landmarks(image, results.pose_landmarks, mp_pose.POSE_CONNECTIONS,\n",
        "                                   mp_drawing.DrawingSpec(color=(245,117,66), thickness=2, circle_radius=2),\n",
        "                                   mp_drawing.DrawingSpec(color=(245,66,230), thickness=2, circle_radius=2)\n",
        "                                      )\n",
        "\n",
        "        cv2.imshow(\"MediaPipe Feed\", image)\n",
        "\n",
        "\n",
        "        if cv2.waitKey(10) & 0xFF == ord('q'):\n",
        "            break\n",
        "\n",
        "cap.release()\n",
        "cv2.destroyAllWindows()"
      ]
    },
    {
      "cell_type": "code",
      "execution_count": null,
      "metadata": {
        "id": "Dbu6qNfXnA4T",
        "outputId": "282c7161-93f8-4bf5-9dbb-08ce519a1612"
      },
      "outputs": [
        {
          "data": {
            "text/plain": [
              "33"
            ]
          },
          "execution_count": 25,
          "metadata": {},
          "output_type": "execute_result"
        }
      ],
      "source": [
        "len(landmarks)\n"
      ]
    },
    {
      "cell_type": "code",
      "execution_count": null,
      "metadata": {
        "id": "oXlWjTfcnA4U",
        "outputId": "18b230f7-46b3-44f7-b2cd-6a8d4ef2b728"
      },
      "outputs": [
        {
          "name": "stdout",
          "output_type": "stream",
          "text": [
            "PoseLandmark.NOSE\n",
            "PoseLandmark.LEFT_EYE_INNER\n",
            "PoseLandmark.LEFT_EYE\n",
            "PoseLandmark.LEFT_EYE_OUTER\n",
            "PoseLandmark.RIGHT_EYE_INNER\n",
            "PoseLandmark.RIGHT_EYE\n",
            "PoseLandmark.RIGHT_EYE_OUTER\n",
            "PoseLandmark.LEFT_EAR\n",
            "PoseLandmark.RIGHT_EAR\n",
            "PoseLandmark.MOUTH_LEFT\n",
            "PoseLandmark.MOUTH_RIGHT\n",
            "PoseLandmark.LEFT_SHOULDER\n",
            "PoseLandmark.RIGHT_SHOULDER\n",
            "PoseLandmark.LEFT_ELBOW\n",
            "PoseLandmark.RIGHT_ELBOW\n",
            "PoseLandmark.LEFT_WRIST\n",
            "PoseLandmark.RIGHT_WRIST\n",
            "PoseLandmark.LEFT_PINKY\n",
            "PoseLandmark.RIGHT_PINKY\n",
            "PoseLandmark.LEFT_INDEX\n",
            "PoseLandmark.RIGHT_INDEX\n",
            "PoseLandmark.LEFT_THUMB\n",
            "PoseLandmark.RIGHT_THUMB\n",
            "PoseLandmark.LEFT_HIP\n",
            "PoseLandmark.RIGHT_HIP\n",
            "PoseLandmark.LEFT_KNEE\n",
            "PoseLandmark.RIGHT_KNEE\n",
            "PoseLandmark.LEFT_ANKLE\n",
            "PoseLandmark.RIGHT_ANKLE\n",
            "PoseLandmark.LEFT_HEEL\n",
            "PoseLandmark.RIGHT_HEEL\n",
            "PoseLandmark.LEFT_FOOT_INDEX\n",
            "PoseLandmark.RIGHT_FOOT_INDEX\n"
          ]
        }
      ],
      "source": [
        "for landm in mp_pose.PoseLandmark:\n",
        "    print(landm)\n",
        ""
      ]
    },
    {
      "cell_type": "code",
      "execution_count": null,
      "metadata": {
        "id": "piR2ghW1nA4W",
        "outputId": "1a85f857-aa3c-4894-cb42-bd9a5cc337dd"
      },
      "outputs": [
        {
          "name": "stdout",
          "output_type": "stream",
          "text": [
            "x: 0.21322552859783173\n",
            "y: 1.7887734174728394\n",
            "z: -0.9570549726486206\n",
            "visibility: 0.06786487996578217\n",
            "\n"
          ]
        }
      ],
      "source": [
        "wrist = landmarks[mp_pose.PoseLandmark.RIGHT_WRIST.value]\n",
        "print(wrist)"
      ]
    },
    {
      "cell_type": "code",
      "execution_count": null,
      "metadata": {
        "id": "6eaKEh03nA4X",
        "outputId": "286103a4-64bf-43f9-c37a-5112a218f7b7"
      },
      "outputs": [
        {
          "data": {
            "text/plain": [
              "0.21322552859783173"
            ]
          },
          "execution_count": 50,
          "metadata": {},
          "output_type": "execute_result"
        }
      ],
      "source": [
        "wrist.x"
      ]
    },
    {
      "cell_type": "code",
      "execution_count": null,
      "metadata": {
        "id": "pYAKNQyRnA4Y"
      },
      "outputs": [],
      "source": [
        "elbow = landmarks[mp_pose.PoseLandmark.RIGHT_ELBOW.value]\n"
      ]
    },
    {
      "cell_type": "code",
      "execution_count": null,
      "metadata": {
        "id": "Il0yAUHtnA4Z"
      },
      "outputs": [],
      "source": [
        "shoulder = landmarks[mp_pose.PoseLandmark.RIGHT_SHOULDER.value]\n"
      ]
    },
    {
      "cell_type": "code",
      "execution_count": null,
      "metadata": {
        "id": "PXDa8M9znA4a"
      },
      "outputs": [],
      "source": [
        "def calculate_angle(a, b, c):\n",
        "\n",
        "    radians = np.arctan2(c.y-b.y, c.x-b.x) - np.arctan2(a.y-b.y, a.x-b.x)\n",
        "    angle = np.abs(radians*180/np.pi)\n",
        "\n",
        "    if angle > 180:\n",
        "        angle = 360 - angle\n",
        "\n",
        "    return round(angle, 2)\n"
      ]
    },
    {
      "cell_type": "code",
      "execution_count": null,
      "metadata": {
        "id": "I5z_Td-KnA4a",
        "outputId": "b5f4d129-324a-4f51-a881-e61ed18fa6c1"
      },
      "outputs": [
        {
          "data": {
            "text/plain": [
              "161.78"
            ]
          },
          "execution_count": 54,
          "metadata": {},
          "output_type": "execute_result"
        }
      ],
      "source": [
        "calculate_angle(wrist, elbow, shoulder)\n"
      ]
    },
    {
      "cell_type": "code",
      "execution_count": null,
      "metadata": {
        "id": "o2DIbbuEnA4b",
        "outputId": "a9b462a3-3cc8-4043-b821-933ade725fd0"
      },
      "outputs": [
        {
          "data": {
            "text/plain": [
              "(113, 668)"
            ]
          },
          "execution_count": 62,
          "metadata": {},
          "output_type": "execute_result"
        }
      ],
      "source": [
        "tuple(np.multiply((elbow.x,elbow.y), [640, 480]).astype(int))"
      ]
    },
    {
      "cell_type": "code",
      "execution_count": null,
      "metadata": {
        "id": "5UwmXoH7nA4b"
      },
      "outputs": [],
      "source": [
        "cap = cv2.VideoCapture(0)\n",
        "\n",
        "with mp_pose.Pose(min_detection_confidence=0.5, min_tracking_confidence=0.5) as pose:\n",
        "    while cap.isOpened():\n",
        "        res, frame = cap.read()\n",
        "\n",
        "        #convert BGR2RGB\n",
        "        image = cv2.cvtColor(frame, cv2.COLOR_BGR2RGB)\n",
        "        image.flags.writeable = False\n",
        "\n",
        "        #make detection\n",
        "        results = pose.process(image)\n",
        "\n",
        "        #convert BGR2RGB\n",
        "        image.flags.writeable = True\n",
        "        image = cv2.cvtColor(image, cv2.COLOR_RGB2BGR)\n",
        "\n",
        "        try:\n",
        "            landmarks = results.pose_landmarks.landmark\n",
        "            wrist = landmarks[mp_pose.PoseLandmark.RIGHT_WRIST.value]\n",
        "            elbow = landmarks[mp_pose.PoseLandmark.RIGHT_ELBOW.value]\n",
        "            shoulder = landmarks[mp_pose.PoseLandmark.RIGHT_SHOULDER.value]\n",
        "\n",
        "            angle = calculate_angle(wrist, elbow, shoulder)\n",
        "\n",
        "            cv2.putText(image,\n",
        "                        str(angle),\n",
        "                        tuple(np.multiply((elbow.x,elbow.y), [640, 480]).astype(int)),\n",
        "                        cv2.FONT_HERSHEY_SIMPLEX,\n",
        "                        0.5,\n",
        "                        (255, 255, 255),\n",
        "                        2,\n",
        "                        cv2.LINE_AA\n",
        "                        )\n",
        "        except:\n",
        "            pass\n",
        "\n",
        "\n",
        "\n",
        "        # Render detections\n",
        "        mp_drawing.draw_landmarks(image, results.pose_landmarks, mp_pose.POSE_CONNECTIONS,\n",
        "                                   mp_drawing.DrawingSpec(color=(245,117,66), thickness=2, circle_radius=2),\n",
        "                                   mp_drawing.DrawingSpec(color=(245,66,230), thickness=2, circle_radius=2)\n",
        "                                      )\n",
        "\n",
        "        cv2.imshow(\"MediaPipe Feed\", image)\n",
        "\n",
        "\n",
        "        if cv2.waitKey(10) & 0xFF == ord('q'):\n",
        "            break\n",
        "\n",
        "cap.release()\n",
        "cv2.destroyAllWindows()"
      ]
    },
    {
      "cell_type": "code",
      "execution_count": null,
      "metadata": {
        "id": "M_Rnr6oMnA4c"
      },
      "outputs": [],
      "source": [
        "cap = cv2.VideoCapture(0)\n",
        "\n",
        "counter = 0\n",
        "stage = None\n",
        "\n",
        "with mp_pose.Pose(min_detection_confidence=0.5, min_tracking_confidence=0.5) as pose:\n",
        "    while cap.isOpened():\n",
        "        res, frame = cap.read()\n",
        "\n",
        "        #convert BGR2RGB\n",
        "        image = cv2.cvtColor(frame, cv2.COLOR_BGR2RGB)\n",
        "        image.flags.writeable = False\n",
        "\n",
        "        #make detection\n",
        "        results = pose.process(image)\n",
        "\n",
        "        #convert BGR2RGB\n",
        "        image.flags.writeable = True\n",
        "        image = cv2.cvtColor(image, cv2.COLOR_RGB2BGR)\n",
        "\n",
        "        try:\n",
        "            landmarks = results.pose_landmarks.landmark\n",
        "            wrist = landmarks[mp_pose.PoseLandmark.RIGHT_WRIST.value]\n",
        "            elbow = landmarks[mp_pose.PoseLandmark.RIGHT_ELBOW.value]\n",
        "            shoulder = landmarks[mp_pose.PoseLandmark.RIGHT_SHOULDER.value]\n",
        "\n",
        "            angle = calculate_angle(wrist, elbow, shoulder)\n",
        "\n",
        "            cv2.putText(image,\n",
        "                        str(angle),\n",
        "                        tuple(np.multiply((elbow.x,elbow.y), [640, 480]).astype(int)),\n",
        "                        cv2.FONT_HERSHEY_SIMPLEX,\n",
        "                        0.5,\n",
        "                        (255, 255, 255),\n",
        "                        2,\n",
        "                        cv2.LINE_AA\n",
        "                        )\n",
        "\n",
        "            # Curl counter logic\n",
        "            if angle > 160:\n",
        "                stage = \"down\"\n",
        "            if angle < 30 and stage == \"down\":\n",
        "                stage = \"up\"\n",
        "                counter += 1\n",
        "\n",
        "        except:\n",
        "            pass\n",
        "\n",
        "\n",
        "        cv2.rectangle(image, (0,0), (200, 80), (255, 100, 0), -1)\n",
        "        cv2.putText(image, \"REPS\", (0,15),\n",
        "                    cv2.FONT_HERSHEY_SIMPLEX,\n",
        "                    0.5,\n",
        "                    (0,0,0),\n",
        "                    1,\n",
        "                    cv2.LINE_AA)\n",
        "        cv2.putText(image, str(counter),\n",
        "                    (10, 60),\n",
        "                    cv2.FONT_HERSHEY_SIMPLEX,\n",
        "                    1.8,\n",
        "                    (0,255,255),\n",
        "                    2,\n",
        "                    cv2.LINE_AA)\n",
        "\n",
        "        cv2.rectangle(image, (440,0), (640, 80), (255, 100, 0), -1)\n",
        "        cv2.putText(image, \"Stage\", (440,15),\n",
        "                    cv2.FONT_HERSHEY_SIMPLEX,\n",
        "                    0.5,\n",
        "                    (0,0,0),\n",
        "                    1,\n",
        "                    cv2.LINE_AA)\n",
        "        cv2.putText(image, str(stage),\n",
        "                    (450, 60),\n",
        "                    cv2.FONT_HERSHEY_SIMPLEX,\n",
        "                    1.8,\n",
        "                    (0,255,255),\n",
        "                    2,\n",
        "                    cv2.LINE_AA)\n",
        "\n",
        "        # Render detections\n",
        "        mp_drawing.draw_landmarks(image, results.pose_landmarks, mp_pose.POSE_CONNECTIONS,\n",
        "                                   mp_drawing.DrawingSpec(color=(245,117,66), thickness=2, circle_radius=2),\n",
        "                                   mp_drawing.DrawingSpec(color=(245,66,230), thickness=2, circle_radius=2)\n",
        "                                      )\n",
        "\n",
        "        cv2.imshow(\"MediaPipe Feed\", image)\n",
        "\n",
        "\n",
        "        if cv2.waitKey(10) & 0xFF == ord('q'):\n",
        "            break\n",
        "\n",
        "cap.release()\n",
        "cv2.destroyAllWindows()"
      ]
    }
  ],
  "metadata": {
    "kernelspec": {
      "display_name": "Python 3",
      "language": "python",
      "name": "python3"
    },
    "language_info": {
      "codemirror_mode": {
        "name": "ipython",
        "version": 3
      },
      "file_extension": ".py",
      "mimetype": "text/x-python",
      "name": "python",
      "nbconvert_exporter": "python",
      "pygments_lexer": "ipython3",
      "version": "3.8.10"
    },
    "colab": {
      "provenance": []
    }
  },
  "nbformat": 4,
  "nbformat_minor": 0
}